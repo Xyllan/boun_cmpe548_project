{
 "cells": [
  {
   "cell_type": "markdown",
   "metadata": {},
   "source": [
    "Recreate the basic variables defined in the paper."
   ]
  },
  {
   "cell_type": "code",
   "execution_count": 1,
   "metadata": {
    "collapsed": true
   },
   "outputs": [],
   "source": [
    "import numpy as np\n",
    "\n",
    "m = 6040 # users\n",
    "n = 3952 # movies\n",
    "R = np.zeros((m,n), dtype = np.int8) # Rating matrix\n",
    "R_hat = np.zeros((m,n), dtype = np.int8) # Predicted rating matrix"
   ]
  },
  {
   "cell_type": "code",
   "execution_count": 10,
   "metadata": {
    "collapsed": false
   },
   "outputs": [
    {
     "name": "stdout",
     "output_type": "stream",
     "text": [
      "(array([   0,   47,  149,  259,  526,  530,  587,  593,  594,  607,  660,\n",
      "        719,  744,  782,  913,  918,  937, 1021, 1027, 1028, 1034, 1096,\n",
      "       1192, 1196, 1206, 1245, 1269, 1286, 1544, 1565, 1720, 1835, 1906,\n",
      "       1960, 1961, 2017, 2027, 2293, 2320, 2339, 2354, 2397, 2686, 2691,\n",
      "       2761, 2790, 2796, 2803, 2917, 3104, 3113, 3185, 3407]),)\n",
      "(array([   0,    5,    7, ..., 6031, 6034, 6039]),)\n"
     ]
    }
   ],
   "source": [
    "import io\n",
    "# Read the data into the rating matrix\n",
    "with open('ml-1m/ratings.dat', 'r') as fp:\n",
    "    for line in iter(fp.readline, ''):\n",
    "        l = line.split('::')\n",
    "        R[int(l[0])-1,int(l[1])-1] = int(l[2])\n",
    "        \n",
    "def O_u(u_i): # item set of user u_i\n",
    "    return np.nonzero(R[u_i,:])\n",
    "def U_o(o_j): # user set of item o_j\n",
    "    return np.nonzero(R[:,o_j])\n",
    "\n",
    "print(O_u(0))\n",
    "print(U_o(0))"
   ]
  },
  {
   "cell_type": "code",
   "execution_count": 11,
   "metadata": {
    "collapsed": false
   },
   "outputs": [
    {
     "name": "stdout",
     "output_type": "stream",
     "text": [
      "Average rating: 3.58156445303\n",
      "Average rating for user 0: 4.18867924528\n"
     ]
    }
   ],
   "source": [
    "def r_bar_u(u_i): # mean ratings of user u_i\n",
    "    return np.mean(R[u_i,O_u(u_i)])\n",
    "\n",
    "r_bar = np.mean(R[np.nonzero(R)]) # mean rating\n",
    "print('Average rating:',r_bar)\n",
    "print('Average rating for user 0:',r_bar_u(0))"
   ]
  },
  {
   "cell_type": "code",
   "execution_count": 18,
   "metadata": {
    "collapsed": false
   },
   "outputs": [
    {
     "name": "stdout",
     "output_type": "stream",
     "text": [
      "Rating of user 0 on movie 0: 5\n",
      "Estimated rating (using uniform user similarity): 4.75396120535\n"
     ]
    }
   ],
   "source": [
    "def calc_r_hat(t, o_j, c_t):\n",
    "    \"\"\"\n",
    "    t -> target user index\n",
    "    o_j -> movie index\n",
    "    c_t -> similarity vector of t to all users\n",
    "    \"\"\"\n",
    "    U_oj = U_o(o_j)\n",
    "    return r_bar_u(t) - r_bar + (np.sum(c_t[U_oj]*R[U_oj, o_j]) / np.sum(c_t[U_oj]))\n",
    "\n",
    "print('Rating of user 0 on movie 0:', R[0,0])\n",
    "print('Estimated rating (using uniform user similarity):', calc_r_hat(0,0, np.ones(m)))"
   ]
  },
  {
   "cell_type": "markdown",
   "metadata": {},
   "source": [
    "Starting the random walk."
   ]
  },
  {
   "cell_type": "code",
   "execution_count": 91,
   "metadata": {
    "collapsed": false
   },
   "outputs": [
    {
     "name": "stdout",
     "output_type": "stream",
     "text": [
      "0.0188679245283\n",
      "0.000580517821897\n",
      "1.09531664509e-05\n",
      "0.000101412334978\n"
     ]
    }
   ],
   "source": [
    "def P_uo(u_i, o_j):\n",
    "    return 1. / np.sum(R[u_i,:] > 0) # Type 1 walk, user to movie\n",
    "print(P_uo(0,0))\n",
    "\n",
    "MAXSCORE = 5\n",
    "def sim(r_ij, r_kj):\n",
    "    return MAXSCORE - np.absolute(r_ij - r_kj)\n",
    "def P_ou(u_k, o_j, u_i): # Type 2 walk, movie to user, given the previous user\n",
    "    numer = sim(R[u_i, o_j], R[u_k, o_j])\n",
    "    denom = np.sum([sim(R[u_i, o_j], R[u_p, o_j]) for u_p in U_o(o_j)])\n",
    "    return numer / denom\n",
    "\n",
    "print(P_ou(0,0,0))\n",
    "\n",
    "def p_trans_movie(u_k, u_i, o_j): # Transition probability from u_k to u_i using o_j\n",
    "    return P_uo(u_i, o_j) * P_ou(u_k, o_j, u_i)\n",
    "\n",
    "print(p_trans_movie(0,0,0))\n",
    "\n",
    "def p_trans(u_k, u_i):# Total transition probability from u_k to u_i\n",
    "    s = np.intersect1d(O_u(u_i), O_u(u_k))\n",
    "    return np.sum([p_trans_movie(u_k, u_i, o_j) for o_j in s])\n",
    "\n",
    "print(p_trans(0,3))"
   ]
  }
 ],
 "metadata": {
  "kernelspec": {
   "display_name": "Python 3",
   "language": "python",
   "name": "python3"
  },
  "language_info": {
   "codemirror_mode": {
    "name": "ipython",
    "version": 3
   },
   "file_extension": ".py",
   "mimetype": "text/x-python",
   "name": "python",
   "nbconvert_exporter": "python",
   "pygments_lexer": "ipython3",
   "version": "3.5.1"
  }
 },
 "nbformat": 4,
 "nbformat_minor": 0
}
