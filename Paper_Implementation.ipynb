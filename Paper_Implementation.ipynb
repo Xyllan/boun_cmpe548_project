{
 "cells": [
  {
   "cell_type": "markdown",
   "metadata": {},
   "source": [
    "## 1. Introduction\n",
    "We will reimplement the methodology of the paper in Python.\n",
    "\n",
    "## 2. Preliminary Concepts\n",
    "\n",
    "Initially, we will recreate the basic variables defined in the paper. To make calculations easier, we will use NaNs instead of zeros if a movie is not rated by a user."
   ]
  },
  {
   "cell_type": "code",
   "execution_count": 47,
   "metadata": {
    "collapsed": true
   },
   "outputs": [],
   "source": [
    "import numpy as np\n",
    "\n",
    "m = 6040 # users\n",
    "n = 3952 # movies\n",
    "Rnan = np.full((m, n), np.nan) # Ratings matrix with nans instead of 0s\n",
    "# R_hat = np.zeros((m,n), dtype = np.float) # Predicted rating matrix"
   ]
  },
  {
   "cell_type": "markdown",
   "metadata": {},
   "source": [
    "We read the data from the ratings file."
   ]
  },
  {
   "cell_type": "code",
   "execution_count": 48,
   "metadata": {
    "collapsed": true
   },
   "outputs": [],
   "source": [
    "import io\n",
    "# Read the data into the rating matrix\n",
    "with open('ml-1m/ratings.dat', 'r') as fp:\n",
    "    for line in iter(fp.readline, ''):\n",
    "        l = line.split('::')\n",
    "        Rnan[int(l[0])-1,int(l[1])-1] = int(l[2])\n",
    "  "
   ]
  },
  {
   "cell_type": "markdown",
   "metadata": {},
   "source": [
    "We continue defining functions as per the paper. $O_u$ is the item (movie) set of the user $u_i$ and $U_o$ is the user set of the item (movie) $o_j$."
   ]
  },
  {
   "cell_type": "code",
   "execution_count": 49,
   "metadata": {
    "collapsed": false
   },
   "outputs": [
    {
     "name": "stdout",
     "output_type": "stream",
     "text": [
      "(array([   0,   47,  149,  259,  526,  530,  587,  593,  594,  607,  660,\n",
      "        719,  744,  782,  913,  918,  937, 1021, 1027, 1028, 1034, 1096,\n",
      "       1192, 1196, 1206, 1245, 1269, 1286, 1544, 1565, 1720, 1835, 1906,\n",
      "       1960, 1961, 2017, 2027, 2293, 2320, 2339, 2354, 2397, 2686, 2691,\n",
      "       2761, 2790, 2796, 2803, 2917, 3104, 3113, 3185, 3407]),)\n",
      "(array([   0,    5,    7, ..., 6031, 6034, 6039]),)\n"
     ]
    }
   ],
   "source": [
    "def O_u(u_i): # item set of user u_i\n",
    "    return np.nonzero(1-np.isnan(Rnan[u_i,:]))\n",
    "def U_o(o_j): # user set of item o_j\n",
    "    return np.nonzero(1-np.isnan(Rnan[:,o_j]))\n",
    "\n",
    "print(O_u(0))\n",
    "print(U_o(0))"
   ]
  },
  {
   "cell_type": "code",
   "execution_count": 53,
   "metadata": {
    "collapsed": false
   },
   "outputs": [
    {
     "name": "stdout",
     "output_type": "stream",
     "text": [
      "Average rating: 3.58156445303\n",
      "Average rating for user 0: 4.18867924528\n"
     ]
    }
   ],
   "source": [
    "r_bar_v = np.nanmean(Rnan, axis = 1) # mean ratings of user u_i\n",
    "r_bar = np.nanmean(Rnan) # global mean rating\n",
    "print('Average rating:',r_bar)\n",
    "print('Average rating for user 0:',r_bar_v[0])"
   ]
  },
  {
   "cell_type": "markdown",
   "metadata": {},
   "source": [
    "We define the prediction function."
   ]
  },
  {
   "cell_type": "code",
   "execution_count": 56,
   "metadata": {
    "collapsed": false
   },
   "outputs": [
    {
     "name": "stdout",
     "output_type": "stream",
     "text": [
      "Rating of user 0 on movie 0: 5.0\n",
      "Estimated rating (using uniform user similarity): 4.75396120535\n"
     ]
    }
   ],
   "source": [
    "def calc_r_hat(u_t, o_j, c_t):\n",
    "    \"\"\"\n",
    "    u_t -> target user\n",
    "    o_j -> target movie\n",
    "    c_t -> similarity vector of t to all users\n",
    "    \"\"\"\n",
    "    U_oj = U_o(o_j)\n",
    "    return r_bar_v[u_t] - r_bar + (np.sum(c_t[U_oj]*Rnan[U_oj, o_j]) / np.sum(c_t[U_oj]))\n",
    "\n",
    "print('Rating of user 0 on movie 0:', Rnan[0,0])\n",
    "print('Estimated rating (using uniform user similarity):', calc_r_hat(0,0, np.ones(m)))"
   ]
  },
  {
   "cell_type": "markdown",
   "metadata": {},
   "source": [
    "## 3. Random Walk\n",
    "\n",
    "Instead of defining a probability function from user $u_i$ to movie $o_j$, we calculate the probabilities beforehand and store them in a matrix."
   ]
  },
  {
   "cell_type": "code",
   "execution_count": 57,
   "metadata": {
    "collapsed": false
   },
   "outputs": [
    {
     "name": "stdout",
     "output_type": "stream",
     "text": [
      "[[ 0.01886792  0.          0.         ...,  0.          0.          0.        ]\n",
      " [ 0.          0.          0.         ...,  0.          0.          0.        ]\n",
      " [ 0.          0.          0.         ...,  0.          0.          0.        ]\n",
      " ..., \n",
      " [ 0.          0.          0.         ...,  0.          0.          0.        ]\n",
      " [ 0.          0.          0.         ...,  0.          0.          0.        ]\n",
      " [ 0.00293255  0.          0.         ...,  0.          0.          0.        ]]\n"
     ]
    }
   ],
   "source": [
    "P_uo = (1 - np.isnan(Rnan)) / np.sum(1 - np.isnan(Rnan), axis = 1).reshape(R.shape[0],1) # Type 1 walk, user to movie\n",
    "print(P_uo)"
   ]
  },
  {
   "cell_type": "markdown",
   "metadata": {},
   "source": [
    "We also define the rating similarity matrix for the user $u_i$. The computed ratings are only numbers if $u_i$ and $u_k$ both have a rating for that item, where $k\\in [0..m]$."
   ]
  },
  {
   "cell_type": "code",
   "execution_count": 58,
   "metadata": {
    "collapsed": false,
    "scrolled": true
   },
   "outputs": [
    {
     "data": {
      "text/plain": [
       "array([[  5.,  nan,  nan, ...,  nan,  nan,  nan],\n",
       "       [ nan,  nan,  nan, ...,  nan,  nan,  nan],\n",
       "       [ nan,  nan,  nan, ...,  nan,  nan,  nan],\n",
       "       ..., \n",
       "       [ nan,  nan,  nan, ...,  nan,  nan,  nan],\n",
       "       [ nan,  nan,  nan, ...,  nan,  nan,  nan],\n",
       "       [  3.,  nan,  nan, ...,  nan,  nan,  nan]])"
      ]
     },
     "execution_count": 58,
     "metadata": {},
     "output_type": "execute_result"
    }
   ],
   "source": [
    "MAXSCORE = 5\n",
    "\n",
    "def sim(u_i): # similarity matrix from u_k to o_j, given u_i\n",
    "    return MAXSCORE - np.absolute(Rnan[u_i,:] - Rnan)\n",
    "\n",
    "sim(0)"
   ]
  },
  {
   "cell_type": "markdown",
   "metadata": {},
   "source": [
    "Using the rating similarity matrix, we can quickly compute the total similarity score for each item $o_j$ over all users, given $u_i$. By not including NaNs, we are calculating the denominators of the Type 2 probabilities."
   ]
  },
  {
   "cell_type": "code",
   "execution_count": 59,
   "metadata": {
    "collapsed": false
   },
   "outputs": [
    {
     "data": {
      "text/plain": [
       "array([ 8613.,     0.,     0., ...,     0.,     0.,     0.])"
      ]
     },
     "execution_count": 59,
     "metadata": {},
     "output_type": "execute_result"
    }
   ],
   "source": [
    "def sum_sim(u_i): # Sum of similarities for any o_j, give u_i\n",
    "    return np.nansum(sim(u_i), axis = 0)\n",
    "\n",
    "sum_sim(0)"
   ]
  },
  {
   "cell_type": "markdown",
   "metadata": {},
   "source": [
    "We can now define the probability function from item (movie) $o_j$ to user $u_k$, given the previous transition was from $u_i$ to $o_j$. Again, we calculate a transition probability matrix to lessen the number of computations. Note that we actually return the transpose of the transition probability matrix, to ease further calculations."
   ]
  },
  {
   "cell_type": "code",
   "execution_count": 60,
   "metadata": {
    "collapsed": false
   },
   "outputs": [
    {
     "data": {
      "text/plain": [
       "array([[ 0.00058052,         nan,         nan, ...,         nan,\n",
       "                nan,         nan],\n",
       "       [        nan,         nan,         nan, ...,         nan,\n",
       "                nan,         nan],\n",
       "       [        nan,         nan,         nan, ...,         nan,\n",
       "                nan,         nan],\n",
       "       ..., \n",
       "       [        nan,         nan,         nan, ...,         nan,\n",
       "                nan,         nan],\n",
       "       [        nan,         nan,         nan, ...,         nan,\n",
       "                nan,         nan],\n",
       "       [ 0.00034831,         nan,         nan, ...,         nan,\n",
       "                nan,         nan]])"
      ]
     },
     "execution_count": 60,
     "metadata": {},
     "output_type": "execute_result"
    }
   ],
   "source": [
    "def P_ou(u_i):\n",
    "    \"\"\"\n",
    "    Transition probability matrix from movie to user, given\n",
    "    a base user u_i. Note that axis 0 is still the user and\n",
    "    the axis 1 is the movie.\n",
    "    \"\"\"\n",
    "    with np.errstate(divide='ignore', invalid='ignore'):\n",
    "        s = sim(u_i)\n",
    "        return s / np.nansum(s, axis = 0)\n",
    "\n",
    "P_ou(0)"
   ]
  },
  {
   "cell_type": "markdown",
   "metadata": {},
   "source": [
    "We then calculate the transition probability from a user $u_i$ to any other user $u_k$."
   ]
  },
  {
   "cell_type": "code",
   "execution_count": 61,
   "metadata": {
    "collapsed": false
   },
   "outputs": [
    {
     "data": {
      "text/plain": [
       "array([  2.08975477e-03,   1.39117946e-04,   5.76297717e-05, ...,\n",
       "         0.00000000e+00,   4.21630861e-04,   2.39080539e-04])"
      ]
     },
     "execution_count": 61,
     "metadata": {},
     "output_type": "execute_result"
    }
   ],
   "source": [
    "def p(u_i):\n",
    "    \"\"\" Transition probability from user u_i to each user. \"\"\"\n",
    "    return np.nansum(P_uo[u_i] * P_ou(u_i), axis = 1)\n",
    "p(0)"
   ]
  },
  {
   "cell_type": "markdown",
   "metadata": {},
   "source": [
    "The calculated transition probabilities are stacked on top of each other to build the transition probability matrix $P$."
   ]
  },
  {
   "cell_type": "code",
   "execution_count": 77,
   "metadata": {
    "collapsed": false
   },
   "outputs": [
    {
     "name": "stdout",
     "output_type": "stream",
     "text": [
      "[[  2.08975477e-03   1.39117946e-04   5.76297717e-05 ...,   0.00000000e+00\n",
      "    4.21630861e-04   2.39080539e-04]\n",
      " [  5.75640788e-05   2.37030982e-03   4.78522937e-05 ...,   1.16093427e-05\n",
      "    7.43764959e-05   4.96480069e-04]\n",
      " [  5.94312010e-05   1.18340680e-04   1.69691406e-03 ...,   3.78222708e-05\n",
      "    8.11348543e-05   2.36556977e-04]\n",
      " ..., \n",
      " [  0.00000000e+00   7.61002797e-05   9.69507318e-05 ...,   2.28147300e-03\n",
      "    6.75691406e-04   9.77292459e-04]\n",
      " [  1.71943645e-04   8.10291189e-05   3.25818579e-05 ...,   1.08172873e-04\n",
      "    3.43334096e-03   4.01288154e-04]\n",
      " [  3.66031493e-05   1.90460161e-04   3.62252940e-05 ...,   6.26079966e-05\n",
      "    1.42890116e-04   4.95235564e-03]]\n"
     ]
    }
   ],
   "source": [
    "def construct_P(m):\n",
    "    l = [p(u_i) for u_i in range(m)]\n",
    "    return np.vstack(l)\n",
    "\n",
    "P = construct_P(m)\n",
    "print(P)"
   ]
  },
  {
   "cell_type": "markdown",
   "metadata": {},
   "source": [
    "Since constructing this matrix takes time, we save it on the local machine, so that we don't have to calculate it again."
   ]
  },
  {
   "cell_type": "code",
   "execution_count": 78,
   "metadata": {
    "collapsed": true
   },
   "outputs": [],
   "source": [
    "np.save('P.npy', P)"
   ]
  },
  {
   "cell_type": "code",
   "execution_count": 62,
   "metadata": {
    "collapsed": false
   },
   "outputs": [
    {
     "name": "stdout",
     "output_type": "stream",
     "text": [
      "[[  2.08975477e-03   1.39117946e-04   5.76297717e-05 ...,   0.00000000e+00\n",
      "    4.21630861e-04   2.39080539e-04]\n",
      " [  5.75640788e-05   2.37030982e-03   4.78522937e-05 ...,   1.16093427e-05\n",
      "    7.43764959e-05   4.96480069e-04]\n",
      " [  5.94312010e-05   1.18340680e-04   1.69691406e-03 ...,   3.78222708e-05\n",
      "    8.11348543e-05   2.36556977e-04]\n",
      " ..., \n",
      " [  0.00000000e+00   7.61002797e-05   9.69507318e-05 ...,   2.28147300e-03\n",
      "    6.75691406e-04   9.77292459e-04]\n",
      " [  1.71943645e-04   8.10291189e-05   3.25818579e-05 ...,   1.08172873e-04\n",
      "    3.43334096e-03   4.01288154e-04]\n",
      " [  3.66031493e-05   1.90460161e-04   3.62252940e-05 ...,   6.26079966e-05\n",
      "    1.42890116e-04   4.95235564e-03]]\n"
     ]
    }
   ],
   "source": [
    "P = np.load('P.npy')\n",
    "print(P)"
   ]
  },
  {
   "cell_type": "markdown",
   "metadata": {},
   "source": [
    "## 4. Sampling Algorithm"
   ]
  },
  {
   "cell_type": "markdown",
   "metadata": {},
   "source": [
    "We create a random test set of 10 numbers for our initial walk."
   ]
  },
  {
   "cell_type": "code",
   "execution_count": 65,
   "metadata": {
    "collapsed": false
   },
   "outputs": [
    {
     "data": {
      "text/plain": [
       "array([ 802, 2890, 3037,  737, 1092, 1768, 4586, 3049, 2162, 4657])"
      ]
     },
     "execution_count": 65,
     "metadata": {},
     "output_type": "execute_result"
    }
   ],
   "source": [
    "size_ts = 10\n",
    "ts = np.random.randint(m, size=(size_ts,))\n",
    "ts"
   ]
  }
 ],
 "metadata": {
  "kernelspec": {
   "display_name": "Python 3",
   "language": "python",
   "name": "python3"
  },
  "language_info": {
   "codemirror_mode": {
    "name": "ipython",
    "version": 3
   },
   "file_extension": ".py",
   "mimetype": "text/x-python",
   "name": "python",
   "nbconvert_exporter": "python",
   "pygments_lexer": "ipython3",
   "version": "3.5.1"
  }
 },
 "nbformat": 4,
 "nbformat_minor": 0
}
