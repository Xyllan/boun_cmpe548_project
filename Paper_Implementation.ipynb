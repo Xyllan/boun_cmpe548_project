{
 "cells": [
  {
   "cell_type": "markdown",
   "metadata": {},
   "source": [
    "## 1. Introduction\n",
    "We will reimplement the methodology of the paper in Python.\n",
    "\n",
    "## 2. Preliminary Concepts\n",
    "\n",
    "Initially, we will recreate the basic variables defined in the paper. To make calculations easier, we will use NaNs instead of zeros if a movie is not rated by a user."
   ]
  },
  {
   "cell_type": "code",
   "execution_count": 1,
   "metadata": {
    "collapsed": true
   },
   "outputs": [],
   "source": [
    "import numpy as np\n",
    "\n",
    "m = 6040 # users\n",
    "n = 3952 # movies\n",
    "Rnan = np.full((m, n), np.nan) # Ratings matrix with nans instead of 0s\n",
    "# R_hat = np.zeros((m,n), dtype = np.float) # Predicted rating matrix"
   ]
  },
  {
   "cell_type": "markdown",
   "metadata": {},
   "source": [
    "We read the data from the ratings file."
   ]
  },
  {
   "cell_type": "code",
   "execution_count": 2,
   "metadata": {
    "collapsed": true
   },
   "outputs": [],
   "source": [
    "import io\n",
    "# Read the data into the rating matrix\n",
    "with open('ml-1m/ratings.dat', 'r') as fp:\n",
    "    for line in iter(fp.readline, ''):\n",
    "        l = line.split('::')\n",
    "        Rnan[int(l[0])-1,int(l[1])-1] = int(l[2])\n",
    "  "
   ]
  },
  {
   "cell_type": "markdown",
   "metadata": {},
   "source": [
    "We continue defining functions as per the paper. $O_u$ is the item (movie) set of the user $u_i$ and $U_o$ is the user set of the item (movie) $o_j$."
   ]
  },
  {
   "cell_type": "code",
   "execution_count": 5,
   "metadata": {
    "collapsed": false
   },
   "outputs": [
    {
     "name": "stdout",
     "output_type": "stream",
     "text": [
      "(array([   0,   47,  149,  259,  526,  530,  587,  593,  594,  607,  660,\n",
      "        719,  744,  782,  913,  918,  937, 1021, 1027, 1028, 1034, 1096,\n",
      "       1192, 1196, 1206, 1245, 1269, 1286, 1544, 1565, 1720, 1835, 1906,\n",
      "       1960, 1961, 2017, 2027, 2293, 2320, 2339, 2354, 2397, 2686, 2691,\n",
      "       2761, 2790, 2796, 2803, 2917, 3104, 3113, 3185, 3407]),)\n",
      "(array([   0,    5,    7, ..., 6031, 6034, 6039]),)\n"
     ]
    }
   ],
   "source": [
    "def O_u(u_i, R = Rnan): # item set of user u_i\n",
    "    return np.nonzero(1-np.isnan(R[u_i,:]))\n",
    "def U_o(o_j, R = Rnan): # user set of item o_j\n",
    "    return np.nonzero(1-np.isnan(R[:,o_j]))\n",
    "\n",
    "print(O_u(0))\n",
    "print(U_o(0))"
   ]
  },
  {
   "cell_type": "code",
   "execution_count": 4,
   "metadata": {
    "collapsed": false
   },
   "outputs": [
    {
     "name": "stdout",
     "output_type": "stream",
     "text": [
      "Average rating: 3.58156445303\n",
      "Average rating for user 0: 4.18867924528\n"
     ]
    }
   ],
   "source": [
    "def calc_r_bar_v(R = Rnan):\n",
    "    return np.nanmean(R, axis = 1) # mean ratings of user u_i\n",
    "\n",
    "def calc_r_bar(R = Rnan): # global mean rating\n",
    "    return np.nanmean(R)\n",
    "\n",
    "r_bar_v = calc_r_bar_v()\n",
    "r_bar = calc_r_bar() \n",
    "print('Average rating:',r_bar)\n",
    "print('Average rating for user 0:',r_bar_v[0])"
   ]
  },
  {
   "cell_type": "markdown",
   "metadata": {},
   "source": [
    "We define the prediction function."
   ]
  },
  {
   "cell_type": "code",
   "execution_count": 6,
   "metadata": {
    "collapsed": false
   },
   "outputs": [
    {
     "name": "stdout",
     "output_type": "stream",
     "text": [
      "Rating of user 0 on movie 0: 5.0\n",
      "Estimated rating (using uniform user similarity): 4.75396120535\n"
     ]
    }
   ],
   "source": [
    "def calc_r_hat(u_t, o_j, c_t, R = Rnan, r_bar_v = r_bar_v, r_bar = r_bar):\n",
    "    \"\"\"\n",
    "    u_t -> target user\n",
    "    o_j -> target movie\n",
    "    c_t -> similarity vector of t to all users\n",
    "    \"\"\"\n",
    "    U_oj = U_o(o_j, R = R)\n",
    "    return r_bar_v[u_t] - r_bar + (np.nansum(c_t[U_oj]*R[U_oj, o_j]) / np.nansum(c_t[U_oj]))\n",
    "\n",
    "print('Rating of user 0 on movie 0:', Rnan[0,0])\n",
    "print('Estimated rating (using uniform user similarity):', calc_r_hat(0,0, np.ones(m)))"
   ]
  },
  {
   "cell_type": "markdown",
   "metadata": {},
   "source": [
    "## 3. Random Walk\n",
    "\n",
    "Instead of defining a probability function from user $u_i$ to movie $o_j$, we calculate the probabilities beforehand and store them in a matrix."
   ]
  },
  {
   "cell_type": "code",
   "execution_count": 7,
   "metadata": {
    "collapsed": false
   },
   "outputs": [
    {
     "name": "stdout",
     "output_type": "stream",
     "text": [
      "[[ 0.01886792  0.          0.         ...,  0.          0.          0.        ]\n",
      " [ 0.          0.          0.         ...,  0.          0.          0.        ]\n",
      " [ 0.          0.          0.         ...,  0.          0.          0.        ]\n",
      " ..., \n",
      " [ 0.          0.          0.         ...,  0.          0.          0.        ]\n",
      " [ 0.          0.          0.         ...,  0.          0.          0.        ]\n",
      " [ 0.00293255  0.          0.         ...,  0.          0.          0.        ]]\n"
     ]
    }
   ],
   "source": [
    "def calc_P_uo(R = Rnan):\n",
    "    return  (1 - np.isnan(R)) / np.sum(1 - np.isnan(R), axis = 1).reshape(R.shape[0],1) # Type 1 walk, user to movie\n",
    "P_uo = calc_P_uo()\n",
    "print(P_uo)"
   ]
  },
  {
   "cell_type": "markdown",
   "metadata": {},
   "source": [
    "We also define the rating similarity matrix for the user $u_i$. The computed ratings are only numbers if $u_i$ and $u_k$ both have a rating for that item, where $k\\in [0..m]$."
   ]
  },
  {
   "cell_type": "code",
   "execution_count": 8,
   "metadata": {
    "collapsed": false,
    "scrolled": true
   },
   "outputs": [
    {
     "data": {
      "text/plain": [
       "array([[  5.,  nan,  nan, ...,  nan,  nan,  nan],\n",
       "       [ nan,  nan,  nan, ...,  nan,  nan,  nan],\n",
       "       [ nan,  nan,  nan, ...,  nan,  nan,  nan],\n",
       "       ..., \n",
       "       [ nan,  nan,  nan, ...,  nan,  nan,  nan],\n",
       "       [ nan,  nan,  nan, ...,  nan,  nan,  nan],\n",
       "       [  3.,  nan,  nan, ...,  nan,  nan,  nan]])"
      ]
     },
     "execution_count": 8,
     "metadata": {},
     "output_type": "execute_result"
    }
   ],
   "source": [
    "MAXSCORE = 5\n",
    "\n",
    "def sim(u_i, R = Rnan): # similarity matrix from u_k to o_j, given u_i\n",
    "    return MAXSCORE - np.absolute(R[u_i,:] - R)\n",
    "\n",
    "sim(0)"
   ]
  },
  {
   "cell_type": "markdown",
   "metadata": {},
   "source": [
    "Using the rating similarity matrix, we can quickly compute the total similarity score for each item $o_j$ over all users, given $u_i$. By not including NaNs, we are calculating the denominators of the Type 2 probabilities."
   ]
  },
  {
   "cell_type": "code",
   "execution_count": 9,
   "metadata": {
    "collapsed": false
   },
   "outputs": [
    {
     "data": {
      "text/plain": [
       "array([ 8613.,     0.,     0., ...,     0.,     0.,     0.])"
      ]
     },
     "execution_count": 9,
     "metadata": {},
     "output_type": "execute_result"
    }
   ],
   "source": [
    "def sum_sim(u_i, R = Rnan): # Sum of similarities for any o_j, give u_i\n",
    "    return np.nansum(sim(u_i, R = R), axis = 0)\n",
    "\n",
    "sum_sim(0)"
   ]
  },
  {
   "cell_type": "markdown",
   "metadata": {},
   "source": [
    "We can now define the probability function from item (movie) $o_j$ to user $u_k$, given the previous transition was from $u_i$ to $o_j$. Again, we calculate a transition probability matrix to lessen the number of computations. Note that we actually return the transpose of the transition probability matrix, to ease further calculations."
   ]
  },
  {
   "cell_type": "code",
   "execution_count": 10,
   "metadata": {
    "collapsed": false
   },
   "outputs": [
    {
     "data": {
      "text/plain": [
       "array([[ 0.00058052,         nan,         nan, ...,         nan,\n",
       "                nan,         nan],\n",
       "       [        nan,         nan,         nan, ...,         nan,\n",
       "                nan,         nan],\n",
       "       [        nan,         nan,         nan, ...,         nan,\n",
       "                nan,         nan],\n",
       "       ..., \n",
       "       [        nan,         nan,         nan, ...,         nan,\n",
       "                nan,         nan],\n",
       "       [        nan,         nan,         nan, ...,         nan,\n",
       "                nan,         nan],\n",
       "       [ 0.00034831,         nan,         nan, ...,         nan,\n",
       "                nan,         nan]])"
      ]
     },
     "execution_count": 10,
     "metadata": {},
     "output_type": "execute_result"
    }
   ],
   "source": [
    "def P_ou(u_i, R = Rnan):\n",
    "    \"\"\"\n",
    "    Transition probability matrix from movie to user, given\n",
    "    a base user u_i. Note that axis 0 is still the user and\n",
    "    the axis 1 is the movie.\n",
    "    \"\"\"\n",
    "    with np.errstate(divide='ignore', invalid='ignore'):\n",
    "        s = sim(u_i, R = R)\n",
    "        return s / np.nansum(s, axis = 0)\n",
    "\n",
    "P_ou(0)"
   ]
  },
  {
   "cell_type": "markdown",
   "metadata": {},
   "source": [
    "We then calculate the transition probability from a user $u_i$ to any other user $u_k$."
   ]
  },
  {
   "cell_type": "code",
   "execution_count": 72,
   "metadata": {
    "collapsed": false
   },
   "outputs": [
    {
     "data": {
      "text/plain": [
       "array([  2.08975477e-03,   1.39117946e-04,   5.76297717e-05, ...,\n",
       "         0.00000000e+00,   4.21630861e-04,   2.39080539e-04])"
      ]
     },
     "execution_count": 72,
     "metadata": {},
     "output_type": "execute_result"
    }
   ],
   "source": [
    "def p(u_i, R = Rnan, P_uo = P_uo):\n",
    "    \"\"\" Transition probability from user u_i to each user. \"\"\"\n",
    "    return np.nansum(P_uo[u_i] * P_ou(u_i, R = Rnan), axis = 1)\n",
    "p(0)"
   ]
  },
  {
   "cell_type": "markdown",
   "metadata": {},
   "source": [
    "The calculated transition probabilities are stacked on top of each other to build the transition probability matrix $P$."
   ]
  },
  {
   "cell_type": "code",
   "execution_count": 73,
   "metadata": {
    "collapsed": true
   },
   "outputs": [],
   "source": [
    "def construct_P(R = Rnan):\n",
    "    P_uo = calc_P_uo(R = R)\n",
    "    l = [p(u_i, R = Rnan, P_uo = P_uo) for u_i in range(R.shape[0])]\n",
    "    return np.vstack(l)"
   ]
  },
  {
   "cell_type": "code",
   "execution_count": 77,
   "metadata": {
    "collapsed": false
   },
   "outputs": [
    {
     "name": "stdout",
     "output_type": "stream",
     "text": [
      "[[  2.08975477e-03   1.39117946e-04   5.76297717e-05 ...,   0.00000000e+00\n",
      "    4.21630861e-04   2.39080539e-04]\n",
      " [  5.75640788e-05   2.37030982e-03   4.78522937e-05 ...,   1.16093427e-05\n",
      "    7.43764959e-05   4.96480069e-04]\n",
      " [  5.94312010e-05   1.18340680e-04   1.69691406e-03 ...,   3.78222708e-05\n",
      "    8.11348543e-05   2.36556977e-04]\n",
      " ..., \n",
      " [  0.00000000e+00   7.61002797e-05   9.69507318e-05 ...,   2.28147300e-03\n",
      "    6.75691406e-04   9.77292459e-04]\n",
      " [  1.71943645e-04   8.10291189e-05   3.25818579e-05 ...,   1.08172873e-04\n",
      "    3.43334096e-03   4.01288154e-04]\n",
      " [  3.66031493e-05   1.90460161e-04   3.62252940e-05 ...,   6.26079966e-05\n",
      "    1.42890116e-04   4.95235564e-03]]\n"
     ]
    }
   ],
   "source": [
    "P = construct_P(m)\n",
    "print(P)"
   ]
  },
  {
   "cell_type": "markdown",
   "metadata": {},
   "source": [
    "Since constructing this matrix takes time, we save it on the local machine, so that we don't have to calculate it again."
   ]
  },
  {
   "cell_type": "code",
   "execution_count": 78,
   "metadata": {
    "collapsed": true
   },
   "outputs": [],
   "source": [
    "np.save('P.npy', P)"
   ]
  },
  {
   "cell_type": "code",
   "execution_count": 18,
   "metadata": {
    "collapsed": false
   },
   "outputs": [
    {
     "name": "stdout",
     "output_type": "stream",
     "text": [
      "[[  2.08975477e-03   1.39117946e-04   5.76297717e-05 ...,   0.00000000e+00\n",
      "    4.21630861e-04   2.39080539e-04]\n",
      " [  5.75640788e-05   2.37030982e-03   4.78522937e-05 ...,   1.16093427e-05\n",
      "    7.43764959e-05   4.96480069e-04]\n",
      " [  5.94312010e-05   1.18340680e-04   1.69691406e-03 ...,   3.78222708e-05\n",
      "    8.11348543e-05   2.36556977e-04]\n",
      " ..., \n",
      " [  0.00000000e+00   7.61002797e-05   9.69507318e-05 ...,   2.28147300e-03\n",
      "    6.75691406e-04   9.77292459e-04]\n",
      " [  1.71943645e-04   8.10291189e-05   3.25818579e-05 ...,   1.08172873e-04\n",
      "    3.43334096e-03   4.01288154e-04]\n",
      " [  3.66031493e-05   1.90460161e-04   3.62252940e-05 ...,   6.26079966e-05\n",
      "    1.42890116e-04   4.95235564e-03]]\n"
     ]
    }
   ],
   "source": [
    "P = np.load('P.npy')\n",
    "print(P)"
   ]
  },
  {
   "cell_type": "code",
   "execution_count": 20,
   "metadata": {
    "collapsed": true
   },
   "outputs": [],
   "source": [
    "def get_P(R = Rnan, ind = None):\n",
    "    P = None\n",
    "    file_name = 'P.npy' if ind is None else 'P'+str(ind)+'.npy'\n",
    "    try:\n",
    "        P = np.load(file_name)\n",
    "    except FileNotFoundError:\n",
    "        P = construct_P(R = R)\n",
    "        np.save(file_name, P)\n",
    "    return P"
   ]
  },
  {
   "cell_type": "markdown",
   "metadata": {},
   "source": [
    "## 4. Sampling Algorithm"
   ]
  },
  {
   "cell_type": "markdown",
   "metadata": {},
   "source": [
    "We create a random test set of 5 numbers for our initial walk."
   ]
  },
  {
   "cell_type": "code",
   "execution_count": 15,
   "metadata": {
    "collapsed": false
   },
   "outputs": [
    {
     "data": {
      "text/plain": [
       "array([3448, 1593,   39, 5879, 1904])"
      ]
     },
     "execution_count": 15,
     "metadata": {},
     "output_type": "execute_result"
    }
   ],
   "source": [
    "size_ts = 5\n",
    "ts = np.random.randint(m, size=(size_ts,))\n",
    "ts"
   ]
  },
  {
   "cell_type": "markdown",
   "metadata": {},
   "source": [
    "We swap the test data to the beginning of the transition probability matrix."
   ]
  },
  {
   "cell_type": "code",
   "execution_count": 17,
   "metadata": {
    "collapsed": true
   },
   "outputs": [],
   "source": [
    "def front_swap(M, inds, dim = 1):\n",
    "    M_new = np.copy(M)\n",
    "    swap_inds = [np.arange(inds.shape[0]) for i in range(dim)]\n",
    "    orig_inds = [inds for i in range(dim)]\n",
    "    temp = M_new[swap_inds]\n",
    "    M_new[swap_inds] = M_new[orig_inds]\n",
    "    M_new[orig_inds] = temp\n",
    "    return M_new"
   ]
  },
  {
   "cell_type": "code",
   "execution_count": 19,
   "metadata": {
    "collapsed": false
   },
   "outputs": [
    {
     "data": {
      "text/plain": [
       "(6040, 6040)"
      ]
     },
     "execution_count": 19,
     "metadata": {},
     "output_type": "execute_result"
    }
   ],
   "source": [
    "P_new = front_swap(P, ts, dim = 2)\n",
    "P_new.shape"
   ]
  },
  {
   "cell_type": "markdown",
   "metadata": {},
   "source": [
    "We can now calculate $P^*$ and $\\pi_{\\tau.}$."
   ]
  },
  {
   "cell_type": "code",
   "execution_count": 27,
   "metadata": {
    "collapsed": false
   },
   "outputs": [
    {
     "data": {
      "text/plain": [
       "(6035, 6035)"
      ]
     },
     "execution_count": 27,
     "metadata": {},
     "output_type": "execute_result"
    }
   ],
   "source": [
    "P_star = P_new[size_ts:, size_ts:]\n",
    "P_star.shape"
   ]
  },
  {
   "cell_type": "code",
   "execution_count": 24,
   "metadata": {
    "collapsed": false
   },
   "outputs": [
    {
     "data": {
      "text/plain": [
       "(5, 6035)"
      ]
     },
     "execution_count": 24,
     "metadata": {},
     "output_type": "execute_result"
    }
   ],
   "source": [
    "pi = P_new[:size_ts, size_ts:]\n",
    "pi.shape"
   ]
  },
  {
   "cell_type": "markdown",
   "metadata": {},
   "source": [
    "### 1. Precomputing"
   ]
  },
  {
   "cell_type": "code",
   "execution_count": 21,
   "metadata": {
    "collapsed": true
   },
   "outputs": [],
   "source": [
    "def walk(N, n_users, P_star, alpha = 0.9):\n",
    "    W = np.zeros((n_users,n_users), dtype = np.float) # The weight matrix for training set\n",
    "    norm_P_star = P_star / (np.sum(P_star, axis= 1).reshape((n_users),1)) # Normalize the probabilities\n",
    "    for r in range(N): # Do N runs for each training user\n",
    "        users = np.arange(n_users) # Create the currently running users\n",
    "        cur_users = np.copy(users) # The current user after starting from the running user itself.\n",
    "        while users.shape[0] > 0: # While there are currently running users\n",
    "            for u in users: # Walk for each user\n",
    "                u_new = np.random.choice(n_users, 1, p = norm_P_star[cur_users[u], :])[0] # Jump to a new user\n",
    "                cur_users[u] = u_new\n",
    "                W[u, u_new] += 1 # Increment the total number of visits to u_new starting from u\n",
    "            cont = np.random.rand(users.shape[0]) > alpha # Finish runs with alpha probability\n",
    "            users = users[cont]\n",
    "    return W / N # Calculate the average # of visits\n",
    " "
   ]
  },
  {
   "cell_type": "code",
   "execution_count": 13,
   "metadata": {
    "collapsed": false
   },
   "outputs": [],
   "source": [
    "W = walk(m, m - size_ts, P_star)"
   ]
  },
  {
   "cell_type": "code",
   "execution_count": 14,
   "metadata": {
    "collapsed": true
   },
   "outputs": [],
   "source": [
    "np.save('W.npy',W)"
   ]
  },
  {
   "cell_type": "code",
   "execution_count": 38,
   "metadata": {
    "collapsed": true
   },
   "outputs": [],
   "source": [
    "def get_W(N, n_users, P_star, alpha = 0.9, ind = None):\n",
    "    W = None\n",
    "    file_name = 'W.npy' if ind is None else 'W'+str(ind)+'.npy'\n",
    "    try:\n",
    "        W = np.load(file_name)\n",
    "    except FileNotFoundError:\n",
    "        W = walk(N, n_users, P_star, alpha = alpha)\n",
    "        np.save(file_name, W)\n",
    "    return W"
   ]
  },
  {
   "cell_type": "code",
   "execution_count": 36,
   "metadata": {
    "collapsed": false
   },
   "outputs": [
    {
     "data": {
      "text/plain": [
       "3919"
      ]
     },
     "execution_count": 36,
     "metadata": {},
     "output_type": "execute_result"
    }
   ],
   "source": [
    "ts[0]"
   ]
  },
  {
   "cell_type": "code",
   "execution_count": 40,
   "metadata": {
    "collapsed": false
   },
   "outputs": [
    {
     "name": "stdout",
     "output_type": "stream",
     "text": [
      "[  8.50658184e-05   2.84750463e-05   1.42046825e-04 ...,   2.08061574e-05\n",
      "   1.51709422e-04   3.42522952e-04]\n",
      "(6035,)\n",
      "[  0.00000000e+00   0.00000000e+00   0.00000000e+00 ...,   2.08061574e-05\n",
      "   1.51709422e-04   3.42522952e-04]\n",
      "(6040,)\n"
     ]
    }
   ],
   "source": [
    "c = 0.9*np.sum(pi[0] * W.T, axis = 1)\n",
    "print(c)\n",
    "print(c.shape)\n",
    "c = np.hstack((np.zeros(size_ts), c))\n",
    "print(c)\n",
    "print(c.shape)"
   ]
  },
  {
   "cell_type": "code",
   "execution_count": 41,
   "metadata": {
    "collapsed": false
   },
   "outputs": [
    {
     "name": "stdout",
     "output_type": "stream",
     "text": [
      "[  6.79221517e-05   1.56651190e-04   9.60660061e-05 ...,   2.08061574e-05\n",
      "   1.51709422e-04   3.42522952e-04]\n",
      "(6040,)\n"
     ]
    }
   ],
   "source": [
    "c_new = front_swap(c, ts, dim = 1)\n",
    "print(c_new)\n",
    "print(c_new.shape)"
   ]
  },
  {
   "cell_type": "code",
   "execution_count": 51,
   "metadata": {
    "collapsed": false
   },
   "outputs": [
    {
     "data": {
      "text/plain": [
       "array([[  6.79221517e-05,   1.56651190e-04,   9.60660061e-05, ...,\n",
       "          2.08061574e-05,   1.51709422e-04,   3.42522952e-04],\n",
       "       [  6.67766765e-05,   1.42750588e-04,   1.00176913e-04, ...,\n",
       "          1.91093189e-05,   1.26436727e-04,   3.52379410e-04],\n",
       "       [  6.67105840e-05,   1.46973780e-04,   1.00855739e-04, ...,\n",
       "          1.89857519e-05,   1.20286442e-04,   3.22321525e-04],\n",
       "       [  8.27945458e-05,   1.42833542e-04,   1.11453923e-04, ...,\n",
       "          1.94285503e-05,   1.26515595e-04,   3.51802108e-04],\n",
       "       [  6.26331970e-05,   1.44696722e-04,   7.98842105e-05, ...,\n",
       "          1.94349158e-05,   1.19480273e-04,   3.70720181e-04]])"
      ]
     },
     "execution_count": 51,
     "metadata": {},
     "output_type": "execute_result"
    }
   ],
   "source": [
    "def get_C(W, pi, test_set, alpha, ind = None):\n",
    "    C = None\n",
    "    file_name = 'C.npy' if ind is None else 'C'+str(ind)+'.npy'\n",
    "    try:\n",
    "        C = np.load(file_name)\n",
    "    except FileNotFoundError:\n",
    "        size_ts = test_set.shape[0]\n",
    "        C = np.vstack([front_swap(np.hstack((np.zeros(size_ts), alpha * np.sum(pi[k] * W.T, axis = 1))), \\\n",
    "                                  test_set, dim = 1) for k in range(size_ts)])\n",
    "        np.save(file_name, C)\n",
    "    return C\n",
    "\n",
    "C = get_C(W, pi, ts, 0.9)\n",
    "C"
   ]
  },
  {
   "cell_type": "code",
   "execution_count": 57,
   "metadata": {
    "collapsed": false
   },
   "outputs": [
    {
     "name": "stderr",
     "output_type": "stream",
     "text": [
      "/home/xyllan/miniconda3/lib/python3.5/site-packages/ipykernel/__main__.py:7: VisibleDeprecationWarning: boolean index did not match indexed array along dimension 0; dimension is 6040 but corresponding boolean dimension is 3952\n",
      "/home/xyllan/miniconda3/lib/python3.5/site-packages/ipykernel/__main__.py:8: RuntimeWarning: invalid value encountered in double_scalars\n",
      "/home/xyllan/miniconda3/lib/python3.5/site-packages/ipykernel/__main__.py:7: VisibleDeprecationWarning: boolean index did not match indexed array along dimension 0; dimension is 6040 but corresponding boolean dimension is 3952\n",
      "/home/xyllan/miniconda3/lib/python3.5/site-packages/ipykernel/__main__.py:8: RuntimeWarning: invalid value encountered in double_scalars\n",
      "/home/xyllan/miniconda3/lib/python3.5/site-packages/ipykernel/__main__.py:7: VisibleDeprecationWarning: boolean index did not match indexed array along dimension 0; dimension is 6040 but corresponding boolean dimension is 3952\n",
      "/home/xyllan/miniconda3/lib/python3.5/site-packages/ipykernel/__main__.py:8: RuntimeWarning: invalid value encountered in double_scalars\n",
      "/home/xyllan/miniconda3/lib/python3.5/site-packages/ipykernel/__main__.py:7: VisibleDeprecationWarning: boolean index did not match indexed array along dimension 0; dimension is 6040 but corresponding boolean dimension is 3952\n",
      "/home/xyllan/miniconda3/lib/python3.5/site-packages/ipykernel/__main__.py:8: RuntimeWarning: invalid value encountered in double_scalars\n",
      "/home/xyllan/miniconda3/lib/python3.5/site-packages/ipykernel/__main__.py:7: VisibleDeprecationWarning: boolean index did not match indexed array along dimension 0; dimension is 6040 but corresponding boolean dimension is 3952\n",
      "/home/xyllan/miniconda3/lib/python3.5/site-packages/ipykernel/__main__.py:8: RuntimeWarning: invalid value encountered in double_scalars\n"
     ]
    },
    {
     "data": {
      "text/plain": [
       "array([ 0.63098119,  0.72905931,  0.71200196,  0.81999274,  0.71638018])"
      ]
     },
     "execution_count": 57,
     "metadata": {},
     "output_type": "execute_result"
    }
   ],
   "source": [
    "def mean_absolute_error(C, test_set, held_out, R = Rnan):\n",
    "    maes = np.zeros(test_set.shape[0])\n",
    "    r_bar_v = calc_r_bar_v(R = R)\n",
    "    r_bar = calc_r_bar(R = R)\n",
    "    for c_ind, u_i in enumerate(test_set):\n",
    "        r_act = R[u_i, held_out[u_i]]\n",
    "        ojs = np.arange(held_out.shape[0])[held_out[u_i]]\n",
    "        r_hat = np.array([calc_r_hat(u_i, o_j, C[c_ind], r_bar_v = r_bar_v, r_bar = r_bar) for o_j in ojs])\n",
    "        maes[c_ind] = np.nanmean(np.absolute(r_act - r_hat))\n",
    "    return maes\n",
    "\n",
    "mean_absolute_error(C, ts, np.ones((m,n), dtype = np.bool_))"
   ]
  },
  {
   "cell_type": "code",
   "execution_count": 59,
   "metadata": {
    "collapsed": true
   },
   "outputs": [],
   "source": [
    "def get_MAE(C, test_set, held_out, R = Rnan, ind = None):\n",
    "    MAE = None\n",
    "    file_name = 'MAE.npy' if ind is None else 'MAE'+str(ind)+'.npy'\n",
    "    try:\n",
    "        MAE = np.load(file_name)\n",
    "    except FileNotFoundError:\n",
    "        MAE = mean_absolute_error(C, test_set, held_out, R = R)\n",
    "        np.save(file_name, MAE)\n",
    "    return MAE"
   ]
  },
  {
   "cell_type": "markdown",
   "metadata": {},
   "source": [
    "## 5. Experiments\n",
    "We do a 4-fold cross validation. We save the intermediary matrices to files, since the calculations take a long time and we want to be able to continue from where we left off even if we stop the program at a given time."
   ]
  },
  {
   "cell_type": "code",
   "execution_count": 65,
   "metadata": {
    "collapsed": false
   },
   "outputs": [
    {
     "data": {
      "text/plain": [
       "[array([   3,    4,    5, ..., 6030, 6035, 6037]),\n",
       " array([   6,   10,   11, ..., 6007, 6012, 6013]),\n",
       " array([   8,   14,   22, ..., 6034, 6036, 6039]),\n",
       " array([   0,    1,    2, ..., 6018, 6032, 6038])]"
      ]
     },
     "execution_count": 65,
     "metadata": {},
     "output_type": "execute_result"
    }
   ],
   "source": [
    "from sklearn.cross_validation import KFold\n",
    "\n",
    "def generate_test_sets(n_folds = 4):\n",
    "    kfold = KFold(m, n_folds = 4, shuffle = True)\n",
    "    i = 0\n",
    "    l = []\n",
    "    for train_set, test_set in kfold:\n",
    "        np.save('TS'+str(i)+'.npy', test_set)\n",
    "        l.append(test_set)\n",
    "        i += 1\n",
    "    return l\n",
    "        \n",
    "generate_test_sets(4)"
   ]
  },
  {
   "cell_type": "code",
   "execution_count": 66,
   "metadata": {
    "collapsed": false
   },
   "outputs": [
    {
     "data": {
      "text/plain": [
       "[array([   3,    4,    5, ..., 6030, 6035, 6037]),\n",
       " array([   6,   10,   11, ..., 6007, 6012, 6013]),\n",
       " array([   8,   14,   22, ..., 6034, 6036, 6039]),\n",
       " array([   0,    1,    2, ..., 6018, 6032, 6038])]"
      ]
     },
     "execution_count": 66,
     "metadata": {},
     "output_type": "execute_result"
    }
   ],
   "source": [
    "def load_test_sets(n_folds = 4):\n",
    "    return [np.load('TS'+str(i)+'.npy') for i in range(n_folds)]\n",
    "\n",
    "test_sets = load_test_sets(4)\n",
    "test_sets"
   ]
  },
  {
   "cell_type": "code",
   "execution_count": 62,
   "metadata": {
    "collapsed": true
   },
   "outputs": [],
   "source": [
    "def get_test_sets(n_folds = 4):\n",
    "    test_sets = None\n",
    "    try:\n",
    "        test_sets = load_test_sets(n_folds)\n",
    "    except FileNotFoundError:\n",
    "        test_sets = generate_test_sets(n_folds)\n",
    "    return test_sets"
   ]
  },
  {
   "cell_type": "markdown",
   "metadata": {},
   "source": [
    "For each test user, we hold out 90% of their rated items."
   ]
  },
  {
   "cell_type": "code",
   "execution_count": 68,
   "metadata": {
    "collapsed": false
   },
   "outputs": [
    {
     "data": {
      "text/plain": [
       "[array([[False, False, False, ..., False, False, False],\n",
       "        [False, False, False, ..., False, False, False],\n",
       "        [False, False, False, ..., False, False, False],\n",
       "        ..., \n",
       "        [False, False, False, ..., False, False, False],\n",
       "        [False, False, False, ..., False, False, False],\n",
       "        [False, False, False, ..., False, False, False]], dtype=bool),\n",
       " array([[False, False, False, ..., False, False, False],\n",
       "        [False, False, False, ..., False, False, False],\n",
       "        [False, False, False, ..., False, False, False],\n",
       "        ..., \n",
       "        [False, False, False, ..., False, False, False],\n",
       "        [False, False, False, ..., False, False, False],\n",
       "        [False, False, False, ..., False, False, False]], dtype=bool),\n",
       " array([[False, False, False, ..., False, False, False],\n",
       "        [False, False, False, ..., False, False, False],\n",
       "        [False, False, False, ..., False, False, False],\n",
       "        ..., \n",
       "        [False, False, False, ..., False, False, False],\n",
       "        [False, False, False, ..., False, False, False],\n",
       "        [ True, False, False, ..., False, False, False]], dtype=bool),\n",
       " array([[ True, False, False, ..., False, False, False],\n",
       "        [False, False, False, ..., False, False, False],\n",
       "        [False, False, False, ..., False, False, False],\n",
       "        ..., \n",
       "        [False, False, False, ..., False, False, False],\n",
       "        [False, False, False, ..., False, False, False],\n",
       "        [False, False, False, ..., False, False, False]], dtype=bool)]"
      ]
     },
     "execution_count": 68,
     "metadata": {},
     "output_type": "execute_result"
    }
   ],
   "source": [
    "def generate_held_outs(test_sets, R = Rnan, p = 0.9):\n",
    "    l = []\n",
    "    for i, test_set in enumerate(test_sets):\n",
    "        ho = np.zeros((m,n), dtype = np.bool_)\n",
    "        for test_user in test_set:\n",
    "            items = O_u(test_user, R = R)\n",
    "            np.random.shuffle(items)\n",
    "            ho[test_user,items] = 1\n",
    "        l.append(ho)\n",
    "        np.save('HO'+str(i)+'.npy', ho)\n",
    "    return l\n",
    "    \n",
    "generate_held_outs(test_sets)"
   ]
  },
  {
   "cell_type": "code",
   "execution_count": 69,
   "metadata": {
    "collapsed": false,
    "scrolled": true
   },
   "outputs": [
    {
     "data": {
      "text/plain": [
       "[array([[False, False, False, ..., False, False, False],\n",
       "        [False, False, False, ..., False, False, False],\n",
       "        [False, False, False, ..., False, False, False],\n",
       "        ..., \n",
       "        [False, False, False, ..., False, False, False],\n",
       "        [False, False, False, ..., False, False, False],\n",
       "        [False, False, False, ..., False, False, False]], dtype=bool),\n",
       " array([[False, False, False, ..., False, False, False],\n",
       "        [False, False, False, ..., False, False, False],\n",
       "        [False, False, False, ..., False, False, False],\n",
       "        ..., \n",
       "        [False, False, False, ..., False, False, False],\n",
       "        [False, False, False, ..., False, False, False],\n",
       "        [False, False, False, ..., False, False, False]], dtype=bool),\n",
       " array([[False, False, False, ..., False, False, False],\n",
       "        [False, False, False, ..., False, False, False],\n",
       "        [False, False, False, ..., False, False, False],\n",
       "        ..., \n",
       "        [False, False, False, ..., False, False, False],\n",
       "        [False, False, False, ..., False, False, False],\n",
       "        [ True, False, False, ..., False, False, False]], dtype=bool),\n",
       " array([[ True, False, False, ..., False, False, False],\n",
       "        [False, False, False, ..., False, False, False],\n",
       "        [False, False, False, ..., False, False, False],\n",
       "        ..., \n",
       "        [False, False, False, ..., False, False, False],\n",
       "        [False, False, False, ..., False, False, False],\n",
       "        [False, False, False, ..., False, False, False]], dtype=bool)]"
      ]
     },
     "execution_count": 69,
     "metadata": {},
     "output_type": "execute_result"
    }
   ],
   "source": [
    "def load_held_outs(n_folds = 4):\n",
    "    return [np.load('HO'+str(i)+'.npy') for i in range(n_folds)]\n",
    "\n",
    "held_outs = load_held_outs(4)\n",
    "held_outs"
   ]
  },
  {
   "cell_type": "code",
   "execution_count": 70,
   "metadata": {
    "collapsed": false
   },
   "outputs": [],
   "source": [
    "def get_held_outs(test_sets, R = Rnan, p = 0.9):\n",
    "    held_outs = None\n",
    "    try:\n",
    "        held_outs = load_held_outs(len(test_sets))\n",
    "    except FileNotFoundError:\n",
    "        held_outs = generate_held_outs(test_sets, R = R, p = p)\n",
    "    return held_outs"
   ]
  },
  {
   "cell_type": "code",
   "execution_count": 76,
   "metadata": {
    "collapsed": false
   },
   "outputs": [
    {
     "ename": "MemoryError",
     "evalue": "",
     "output_type": "error",
     "traceback": [
      "\u001b[1;31m---------------------------------------------------------------------------\u001b[0m",
      "\u001b[1;31mMemoryError\u001b[0m                               Traceback (most recent call last)",
      "\u001b[1;32m<ipython-input-76-74b11db239ff>\u001b[0m in \u001b[0;36m<module>\u001b[1;34m()\u001b[0m\n\u001b[0;32m     21\u001b[0m     \u001b[1;32mreturn\u001b[0m \u001b[0mmaes\u001b[0m\u001b[1;33m\u001b[0m\u001b[0m\n\u001b[0;32m     22\u001b[0m \u001b[1;33m\u001b[0m\u001b[0m\n\u001b[1;32m---> 23\u001b[1;33m \u001b[0mmaes\u001b[0m \u001b[1;33m=\u001b[0m \u001b[0mgenerate_maes\u001b[0m\u001b[1;33m(\u001b[0m\u001b[1;33m)\u001b[0m\u001b[1;33m\u001b[0m\u001b[0m\n\u001b[0m",
      "\u001b[1;32m<ipython-input-76-74b11db239ff>\u001b[0m in \u001b[0;36mgenerate_maes\u001b[1;34m(n_folds, R, held_ratio, alpha)\u001b[0m\n\u001b[0;32m      4\u001b[0m     \u001b[0mmaes\u001b[0m \u001b[1;33m=\u001b[0m \u001b[1;33m[\u001b[0m\u001b[1;33m]\u001b[0m\u001b[1;33m\u001b[0m\u001b[0m\n\u001b[0;32m      5\u001b[0m     \u001b[1;32mfor\u001b[0m \u001b[0mi\u001b[0m\u001b[1;33m,\u001b[0m \u001b[1;33m(\u001b[0m\u001b[0mtest_set\u001b[0m\u001b[1;33m,\u001b[0m \u001b[0mheld_out\u001b[0m\u001b[1;33m)\u001b[0m \u001b[1;32min\u001b[0m \u001b[0menumerate\u001b[0m\u001b[1;33m(\u001b[0m\u001b[0mzip\u001b[0m\u001b[1;33m(\u001b[0m\u001b[0mtest_sets\u001b[0m\u001b[1;33m,\u001b[0m \u001b[0mheld_outs\u001b[0m\u001b[1;33m)\u001b[0m\u001b[1;33m)\u001b[0m\u001b[1;33m:\u001b[0m\u001b[1;33m\u001b[0m\u001b[0m\n\u001b[1;32m----> 6\u001b[1;33m         \u001b[0mR_test\u001b[0m \u001b[1;33m=\u001b[0m \u001b[0mnp\u001b[0m\u001b[1;33m.\u001b[0m\u001b[0mcopy\u001b[0m\u001b[1;33m(\u001b[0m\u001b[0mR\u001b[0m\u001b[1;33m)\u001b[0m\u001b[1;33m\u001b[0m\u001b[0m\n\u001b[0m\u001b[0;32m      7\u001b[0m         \u001b[0mR_test\u001b[0m\u001b[1;33m[\u001b[0m\u001b[0mheld_out\u001b[0m\u001b[1;33m]\u001b[0m \u001b[1;33m=\u001b[0m \u001b[0mnp\u001b[0m\u001b[1;33m.\u001b[0m\u001b[0mnan\u001b[0m\u001b[1;33m\u001b[0m\u001b[0m\n\u001b[0;32m      8\u001b[0m         \u001b[0mP\u001b[0m \u001b[1;33m=\u001b[0m \u001b[0mget_P\u001b[0m\u001b[1;33m(\u001b[0m\u001b[0mR\u001b[0m \u001b[1;33m=\u001b[0m \u001b[0mR_test\u001b[0m\u001b[1;33m,\u001b[0m \u001b[0mind\u001b[0m \u001b[1;33m=\u001b[0m \u001b[0mi\u001b[0m\u001b[1;33m)\u001b[0m\u001b[1;33m\u001b[0m\u001b[0m\n",
      "\u001b[1;32m/home/xyllan/miniconda3/lib/python3.5/site-packages/numpy/lib/function_base.py\u001b[0m in \u001b[0;36mcopy\u001b[1;34m(a, order)\u001b[0m\n\u001b[0;32m    936\u001b[0m \u001b[1;33m\u001b[0m\u001b[0m\n\u001b[0;32m    937\u001b[0m     \"\"\"\n\u001b[1;32m--> 938\u001b[1;33m     \u001b[1;32mreturn\u001b[0m \u001b[0marray\u001b[0m\u001b[1;33m(\u001b[0m\u001b[0ma\u001b[0m\u001b[1;33m,\u001b[0m \u001b[0morder\u001b[0m\u001b[1;33m=\u001b[0m\u001b[0morder\u001b[0m\u001b[1;33m,\u001b[0m \u001b[0mcopy\u001b[0m\u001b[1;33m=\u001b[0m\u001b[1;32mTrue\u001b[0m\u001b[1;33m)\u001b[0m\u001b[1;33m\u001b[0m\u001b[0m\n\u001b[0m\u001b[0;32m    939\u001b[0m \u001b[1;33m\u001b[0m\u001b[0m\n\u001b[0;32m    940\u001b[0m \u001b[1;31m# Basic operations\u001b[0m\u001b[1;33m\u001b[0m\u001b[1;33m\u001b[0m\u001b[0m\n",
      "\u001b[1;31mMemoryError\u001b[0m: "
     ]
    }
   ],
   "source": [
    "def generate_maes(n_folds = 4, R = Rnan, held_ratio = 0.9, alpha = 0.9):\n",
    "    test_sets = get_test_sets(n_folds)\n",
    "    held_outs = get_held_outs(test_sets, R = R, p = held_ratio)\n",
    "    maes = []\n",
    "    for i, (test_set, held_out) in enumerate(zip(test_sets, held_outs)):\n",
    "        R_test = np.copy(R)\n",
    "        R_test[held_out] = np.nan\n",
    "        P = get_P(R = R_test, ind = i)\n",
    "        \n",
    "        size_ts = test_set.shape[0]\n",
    "        P_new = front_swap(P, test_set, dim = 2)\n",
    "        P_star = P_new[size_ts:, size_ts:]\n",
    "        pi = P_new[:size_ts, size_ts:]\n",
    "        W = get_W(m, m - size_ts, P_star, alpha = alpha, ind = i)\n",
    "        \n",
    "        C = get_C(W, pi, test_set, alpha, ind = i)\n",
    "        MAE = get_MAE(C, test_set, held_out, R = R, ind = None)\n",
    "        \n",
    "        maes.append(MAE)\n",
    "        \n",
    "    return maes\n",
    "    \n",
    "maes = generate_maes()"
   ]
  }
 ],
 "metadata": {
  "kernelspec": {
   "display_name": "Python 3",
   "language": "python",
   "name": "python3"
  },
  "language_info": {
   "codemirror_mode": {
    "name": "ipython",
    "version": 3
   },
   "file_extension": ".py",
   "mimetype": "text/x-python",
   "name": "python",
   "nbconvert_exporter": "python",
   "pygments_lexer": "ipython3",
   "version": "3.5.1"
  }
 },
 "nbformat": 4,
 "nbformat_minor": 0
}
