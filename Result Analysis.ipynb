{
 "cells": [
  {
   "cell_type": "code",
   "execution_count": 2,
   "metadata": {
    "collapsed": true
   },
   "outputs": [],
   "source": [
    "import numpy as np\n",
    "import paper\n",
    "\n",
    "n_folds = 4\n",
    "test_sets = [np.load('TS'+str(i)+'.npy') for i in range(n_folds)]\n",
    "held_outs = [np.load('HO'+str(i)+'.npy') for i in range(n_folds)]\n",
    "maes = [np.load('MAE'+str(i)+'.npy') for i in range(n_folds)]"
   ]
  },
  {
   "cell_type": "code",
   "execution_count": 3,
   "metadata": {
    "collapsed": false
   },
   "outputs": [
    {
     "data": {
      "text/plain": [
       "array([   1,    2,   11, ..., 6034, 6036, 6038])"
      ]
     },
     "execution_count": 3,
     "metadata": {},
     "output_type": "execute_result"
    }
   ],
   "source": [
    "ts = test_sets[0]\n",
    "ts"
   ]
  },
  {
   "cell_type": "code",
   "execution_count": 4,
   "metadata": {
    "collapsed": false
   },
   "outputs": [
    {
     "data": {
      "text/plain": [
       "array([[False, False, False, ..., False, False, False],\n",
       "       [False, False, False, ..., False, False, False],\n",
       "       [False, False, False, ..., False, False, False],\n",
       "       ..., \n",
       "       [False, False, False, ..., False, False, False],\n",
       "       [False, False, False, ..., False, False, False],\n",
       "       [False, False, False, ..., False, False, False]], dtype=bool)"
      ]
     },
     "execution_count": 4,
     "metadata": {},
     "output_type": "execute_result"
    }
   ],
   "source": [
    "ho = held_outs[0]\n",
    "ho"
   ]
  },
  {
   "cell_type": "code",
   "execution_count": 5,
   "metadata": {
    "collapsed": false
   },
   "outputs": [
    {
     "data": {
      "text/plain": [
       "array([ 0.79286365,  0.78426155,  0.75405791, ...,  1.09939118,\n",
       "        0.72314558,  0.54463607])"
      ]
     },
     "execution_count": 5,
     "metadata": {},
     "output_type": "execute_result"
    }
   ],
   "source": [
    "mae = maes[0]\n",
    "mae"
   ]
  },
  {
   "cell_type": "code",
   "execution_count": 6,
   "metadata": {
    "collapsed": false
   },
   "outputs": [
    {
     "data": {
      "text/plain": [
       "array([[  5.,  nan,  nan, ...,  nan,  nan,  nan],\n",
       "       [ nan,  nan,  nan, ...,  nan,  nan,  nan],\n",
       "       [ nan,  nan,  nan, ...,  nan,  nan,  nan],\n",
       "       ..., \n",
       "       [ nan,  nan,  nan, ...,  nan,  nan,  nan],\n",
       "       [ nan,  nan,  nan, ...,  nan,  nan,  nan],\n",
       "       [  3.,  nan,  nan, ...,  nan,  nan,  nan]])"
      ]
     },
     "execution_count": 6,
     "metadata": {},
     "output_type": "execute_result"
    }
   ],
   "source": [
    "R_test = np.copy(paper.Rnan)\n",
    "R_test[ho] = np.nan\n",
    "R_test"
   ]
  },
  {
   "cell_type": "code",
   "execution_count": 7,
   "metadata": {
    "collapsed": false,
    "scrolled": true
   },
   "outputs": [
    {
     "name": "stderr",
     "output_type": "stream",
     "text": [
      "/home/xyllan/miniconda3/lib/python3.5/site-packages/ipykernel/__main__.py:1: RuntimeWarning: invalid value encountered in greater\n",
      "  if __name__ == '__main__':\n"
     ]
    },
    {
     "data": {
      "text/plain": [
       "array([13,  6,  3, ..., 28, 21, 13])"
      ]
     },
     "execution_count": 7,
     "metadata": {},
     "output_type": "execute_result"
    }
   ],
   "source": [
    "n_available = np.sum(R_test > 0, axis = 1)[ts]\n",
    "n_available"
   ]
  },
  {
   "cell_type": "code",
   "execution_count": 8,
   "metadata": {
    "collapsed": false
   },
   "outputs": [
    {
     "name": "stdout",
     "output_type": "stream",
     "text": [
      "Num users: 1510\n",
      "Average MAE: 0.792713801177\n"
     ]
    }
   ],
   "source": [
    "print('Num users:', mae.shape[0])\n",
    "print('Average MAE:',np.mean(mae))"
   ]
  },
  {
   "cell_type": "code",
   "execution_count": 9,
   "metadata": {
    "collapsed": false
   },
   "outputs": [
    {
     "name": "stdout",
     "output_type": "stream",
     "text": [
      "Num users: 211\n",
      "Average MAE: 0.885348087689\n"
     ]
    }
   ],
   "source": [
    "d1_inds = n_available < 4\n",
    "d1_maes = mae[d1_inds]\n",
    "print('Num users:', d1_maes.shape[0])\n",
    "print('Average MAE:',np.mean(d1_maes))"
   ]
  },
  {
   "cell_type": "code",
   "execution_count": 10,
   "metadata": {
    "collapsed": false
   },
   "outputs": [
    {
     "name": "stdout",
     "output_type": "stream",
     "text": [
      "Num users: 514\n",
      "Average MAE: 0.822263555908\n"
     ]
    }
   ],
   "source": [
    "d2_inds = np.logical_and(n_available > 3, n_available < 10)\n",
    "d2_maes = mae[d2_inds]\n",
    "print('Num users:', d2_maes.shape[0])\n",
    "print('Average MAE:',np.mean(d2_maes))"
   ]
  },
  {
   "cell_type": "code",
   "execution_count": 11,
   "metadata": {
    "collapsed": false
   },
   "outputs": [
    {
     "name": "stdout",
     "output_type": "stream",
     "text": [
      "Num users: 785\n",
      "Average MAE: 0.748466147182\n"
     ]
    }
   ],
   "source": [
    "d3_inds = n_available > 9\n",
    "d3_maes = mae[d3_inds]\n",
    "print('Num users:', d3_maes.shape[0])\n",
    "print('Average MAE:',np.mean(d3_maes))"
   ]
  },
  {
   "cell_type": "code",
   "execution_count": 12,
   "metadata": {
    "collapsed": false
   },
   "outputs": [
    {
     "name": "stderr",
     "output_type": "stream",
     "text": [
      "/home/xyllan/miniconda3/lib/python3.5/site-packages/ipykernel/__main__.py:4: RuntimeWarning: invalid value encountered in greater\n"
     ]
    }
   ],
   "source": [
    "def get_maes(R, mae, test_set, held_outs):\n",
    "    R_test = np.copy(R)\n",
    "    R_test[held_outs] = np.nan\n",
    "    n_available = np.sum(R_test > 0, axis = 1)[test_set]\n",
    "    d1_inds = n_available < 4\n",
    "    d1_maes = mae[d1_inds]\n",
    "    d2_inds = np.logical_and(n_available > 3, n_available < 10)\n",
    "    d2_maes = mae[d2_inds]\n",
    "    d3_inds = n_available > 9\n",
    "    d3_maes = mae[d3_inds]\n",
    "    return d1_maes, d2_maes, d3_maes, mae\n",
    "\n",
    "def get_cumul_maes(R, maes, test_sets, held_outs):\n",
    "    d1_maes = []\n",
    "    d2_maes = []\n",
    "    d3_maes = []\n",
    "    all_maes = []\n",
    "    for test_set, held_out, mae in zip(test_sets, held_outs, maes):\n",
    "        d1_mae, d2_mae, d3_mae, all_mae = get_maes(R, mae, test_set, held_out)\n",
    "        d1_maes.append(d1_mae)\n",
    "        d2_maes.append(d2_mae)\n",
    "        d3_maes.append(d3_mae)\n",
    "        all_maes.append(all_mae)\n",
    "    return np.hstack(d1_maes), np.hstack(d2_maes), np.hstack(d3_maes), np.hstack(all_maes)\n",
    "\n",
    "d1_maes, d2_maes, d3_maes, all_maes = get_cumul_maes(paper.Rnan, maes, test_sets, held_outs)"
   ]
  },
  {
   "cell_type": "code",
   "execution_count": 13,
   "metadata": {
    "collapsed": false
   },
   "outputs": [
    {
     "name": "stdout",
     "output_type": "stream",
     "text": [
      "D1 (extremely cold start) users:\n",
      "Num users: 809\n",
      "Average MAE: 0.88852710922\n",
      "D2 (cold start) users:\n",
      "Num users: 2117\n",
      "Average MAE: 0.817068082276\n",
      "D3 (warm start) users:\n",
      "Num users: 3114\n",
      "Average MAE: 0.749377326288\n",
      "All users:\n",
      "Num users: 6040\n",
      "Average MAE: 0.791740489338\n"
     ]
    }
   ],
   "source": [
    "print('D1 (extremely cold start) users:')\n",
    "print('Num users:', d1_maes.shape[0])\n",
    "print('Average MAE:',np.mean(d1_maes))\n",
    "\n",
    "print('D2 (cold start) users:')\n",
    "print('Num users:', d2_maes.shape[0])\n",
    "print('Average MAE:',np.mean(d2_maes))\n",
    "\n",
    "print('D3 (warm start) users:')\n",
    "print('Num users:', d3_maes.shape[0])\n",
    "print('Average MAE:',np.mean(d3_maes))\n",
    "\n",
    "print('All users:')\n",
    "print('Num users:', all_maes.shape[0])\n",
    "print('Average MAE:',np.mean(all_maes))"
   ]
  },
  {
   "cell_type": "code",
   "execution_count": 14,
   "metadata": {
    "collapsed": false
   },
   "outputs": [
    {
     "name": "stderr",
     "output_type": "stream",
     "text": [
      "/home/xyllan/miniconda3/lib/python3.5/site-packages/ipykernel/__main__.py:4: RuntimeWarning: invalid value encountered in greater\n"
     ]
    },
    {
     "data": {
      "text/plain": [
       "(array([  202.25,   529.25,   778.5 ,  1510.  ]),\n",
       " array([ 0.88733087,  0.81733478,  0.74945678,  0.79174049]))"
      ]
     },
     "execution_count": 14,
     "metadata": {},
     "output_type": "execute_result"
    }
   ],
   "source": [
    "def k_avg(R, maes, test_sets, held_outs):\n",
    "    n_users = np.zeros((n_folds,4), dtype = np.int)\n",
    "    ms = np.zeros((n_folds,4))\n",
    "    for i, (test_set, held_out, mae) in enumerate(zip(test_sets, held_outs, maes)):\n",
    "        tpl = get_maes(R, mae, test_set, held_out)\n",
    "        for j, m in enumerate(tpl):\n",
    "            n_users[i,j] = m.shape[0]\n",
    "            ms[i,j] = np.mean(m)\n",
    "    n_users = np.mean(n_users, axis = 0)\n",
    "    ms = np.mean(ms, axis = 0)\n",
    "    return n_users, ms\n",
    "\n",
    "k_avg(paper.Rnan, maes, test_sets, held_outs)"
   ]
  }
 ],
 "metadata": {
  "kernelspec": {
   "display_name": "Python 3",
   "language": "python",
   "name": "python3"
  },
  "language_info": {
   "codemirror_mode": {
    "name": "ipython",
    "version": 3
   },
   "file_extension": ".py",
   "mimetype": "text/x-python",
   "name": "python",
   "nbconvert_exporter": "python",
   "pygments_lexer": "ipython3",
   "version": "3.5.1"
  }
 },
 "nbformat": 4,
 "nbformat_minor": 0
}
